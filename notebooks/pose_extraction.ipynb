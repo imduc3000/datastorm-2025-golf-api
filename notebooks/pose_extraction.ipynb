{
 "cells": [
  {
   "cell_type": "markdown",
   "id": "f5b56b9d",
   "metadata": {},
   "source": [
    "# Pose Extraction Notebook\n",
    "Notebook để thử nghiệm trích xuất pose từ video golf"
   ]
  },
  {
   "cell_type": "code",
   "execution_count": null,
   "id": "d02904ab",
   "metadata": {},
   "outputs": [],
   "source": [
    "# Import libraries\n",
    "import cv2\n",
    "import mediapipe as mp\n",
    "import numpy as np\n",
    "\n",
    "print(\"Libraries imported successfully!\")"
   ]
  },
  {
   "cell_type": "code",
   "execution_count": null,
   "id": "a0f4d5bf",
   "metadata": {},
   "outputs": [],
   "source": [
    "# TODO: Add pose extraction code here"
   ]
  }
 ],
 "metadata": {
  "language_info": {
   "name": "python"
  }
 },
 "nbformat": 4,
 "nbformat_minor": 5
}
